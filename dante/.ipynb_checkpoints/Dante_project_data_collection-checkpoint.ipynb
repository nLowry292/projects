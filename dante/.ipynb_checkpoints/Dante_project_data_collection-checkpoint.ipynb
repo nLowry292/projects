{
 "cells": [
  {
   "cell_type": "code",
   "execution_count": null,
   "id": "490bebc8",
   "metadata": {},
   "outputs": [],
   "source": [
    "# i have a .txt with the text split up into cantos, but I'm going to try to rip the text from the Dartmouth Dante Project (DDP)\n",
    "# it's easy to find the text in the HTML editor, but the webpage updates when you \n",
    "# go to the next canto/cantica. It should be easy enough to automate though\n",
    "# Here is the link to Inferno I: http://dantelab.dartmouth.edu/reader?reader%5Bcantica%5D=1&reader%5Bcanto%5D=1\n",
    "# 'cantica%5D=1' gives Inferno, =2 gives Purgatorio, and =3 gives Paradiso\n",
    "# 'canto%5D=1' gives Canto 1, =2, gives Canto 2, etc.\n",
    "\n",
    "# just a little test"
   ]
  },
  {
   "cell_type": "code",
   "execution_count": 6,
   "id": "6e5eee3f",
   "metadata": {},
   "outputs": [
    {
     "name": "stdout",
     "output_type": "stream",
     "text": [
      "4.12.2\n"
     ]
    }
   ],
   "source": [
    "## Import base packages we'll use\n",
    "import pandas as pd\n",
    "import numpy as np\n",
    "import matplotlib.pyplot as plt\n",
    "from time import sleep\n",
    "\n",
    "from seaborn import set_style\n",
    "set_style(\"whitegrid\")\n",
    "\n",
    "import bs4\n",
    "print(bs4.__version__)\n",
    "\n",
    "from bs4 import BeautifulSoup\n",
    "\n",
    "import requests\n"
   ]
  },
  {
   "cell_type": "code",
   "execution_count": 7,
   "id": "93901883",
   "metadata": {},
   "outputs": [],
   "source": [
    "# for listing the cantos 1-100 instead of e.g. Inferno V = (1,5) and Paradiso XXX = (3,30)\n",
    "def canto_conversion(i,j):\n",
    "    if i==0:\n",
    "        return j+1\n",
    "    elif i==1:\n",
    "        return 34+j+1\n",
    "    else:\n",
    "        return 67+j+1"
   ]
  },
  {
   "cell_type": "code",
   "execution_count": 8,
   "id": "32e6dbef",
   "metadata": {},
   "outputs": [],
   "source": [
    "comedy_text = [\"\"]*100\n",
    "\n",
    "# cycle through all cantos\n",
    "for i in range(3):\n",
    "    for j in range(34):\n",
    "        if (i==1 and j==33) or (i==2 and j==33): #there is inf. 34, but no purg. 34 nor par. 34\n",
    "            continue\n",
    "        url = \"http://dantelab.dartmouth.edu/reader?reader%5Bcantica%5D=\" + str(i+1) + \"&reader%5Bcanto%5D=\" + str(j+1)\n",
    "        response = requests.get(url=url)\n",
    "        \n",
    "        # the relevant text is found in a division id'd by 'L1' in an element called 'pre' with the class 'commentarytercet'\n",
    "        soup = BeautifulSoup(response.content, 'html.parser').find(\"div\", {\"id\": \"L1\"})\n",
    "        canto_text_container = soup.find_all('pre', attrs={'class': 'commentarytercet'})\n",
    "        \n",
    "        # cleaning up the text\n",
    "        canto_text_container_string = [str(txt) for txt in canto_text_container]\n",
    "        for k in range(len(canto_text_container_string)):\n",
    "            canto_text_container_string[k]=canto_text_container_string[k].replace('<i>','').replace('</i>','').replace(',','').replace('.','').replace(';','').replace('?','').replace('!','').replace(':','').replace('“','').replace('”','')\n",
    "            \n",
    "        # re-souping and parsing\n",
    "        canto_text_clean = \"\"\n",
    "        for k in range(len(canto_text_container_string)):\n",
    "            soup = BeautifulSoup(canto_text_container_string[k], 'html.parser')\n",
    "            for br in soup.find_all('br'):\n",
    "                if br.nextSibling != None:\n",
    "                    canto_text_clean += str(br.nextSibling)+'\\n'\n",
    "                    \n",
    "        # store the text in an array\n",
    "        comedy_text[canto_conversion(i,j)-1] = canto_text_clean\n",
    "        sleep(0.5)"
   ]
  },
  {
   "cell_type": "code",
   "execution_count": 12,
   "id": "369947be",
   "metadata": {},
   "outputs": [],
   "source": [
    "dante_word_dict = {\"word\" : [], \"verse_num\" : [], \"cantica\" : [], \"canto\" : [], \"rhyme?\" : []}\n",
    "dante_canto_dict = {'cantica' : [\"\"]*100, 'canto' : [0]*100, 'num_verses' : [0]*100, 'num_words' : [0]*100 }\n",
    "for i in range(100):\n",
    "    #first deal with dante_canto_dict, since that's easy\n",
    "    if (i <= 33):\n",
    "        dante_canto_dict['cantica'][i]=\"Inferno\"\n",
    "        dante_canto_dict['canto'][i]=i+1\n",
    "    elif (i <= 66):\n",
    "        dante_canto_dict['cantica'][i]=\"Purgatorio\"\n",
    "        dante_canto_dict['canto'][i]=i-33\n",
    "    else:\n",
    "        dante_canto_dict['cantica'][i]=\"Paradiso\"\n",
    "        dante_canto_dict['canto'][i]=i-66\n",
    "    \n",
    "    verse_by_verse = comedy_text[i].splitlines()\n",
    "    dante_canto_dict['num_verses'][i]=len(verse_by_verse)\n",
    "    \n",
    "    \n",
    "    words, verse_nums, cantica, canto, rhyme = [], [], [], [], []\n",
    "    word_num = 0\n",
    "    verse_num = 1 #count verse number\n",
    "    for verse in verse_by_verse:\n",
    "        for word in verse.split():\n",
    "            words.append(word)\n",
    "            verse_nums.append(verse_num)\n",
    "            if (i <= 33):\n",
    "                cantica.append(\"Inferno\")\n",
    "                canto.append(i+1)\n",
    "            elif (i <= 66):\n",
    "                cantica.append(\"Purgatorio\")\n",
    "                canto.append(i-33)\n",
    "            else:\n",
    "                cantica.append(\"Paradiso\")\n",
    "                canto.append(i-66)\n",
    "            if word == verse.split()[-1]:\n",
    "                rhyme.append(1)\n",
    "            else:\n",
    "                rhyme.append(0)\n",
    "            word_num += 1\n",
    "        verse_num += 1\n",
    "    dante_word_dict[\"word\"] += words\n",
    "    dante_word_dict[\"verse_num\"] += verse_nums\n",
    "    dante_word_dict[\"cantica\"] += cantica\n",
    "    dante_word_dict[\"canto\"] += canto\n",
    "    dante_word_dict[\"rhyme?\"] += rhyme\n",
    "    dante_canto_dict['num_words'][i]=word_num"
   ]
  },
  {
   "cell_type": "code",
   "execution_count": 15,
   "id": "7888f402",
   "metadata": {},
   "outputs": [],
   "source": [
    "df = pd.DataFrame(dante_canto_dict)\n",
    "df.to_csv(\"../data/commedia_cantos.csv\", index=False)"
   ]
  },
  {
   "cell_type": "code",
   "execution_count": null,
   "id": "2bbb339f",
   "metadata": {},
   "outputs": [],
   "source": []
  },
  {
   "cell_type": "code",
   "execution_count": null,
   "id": "7565f2fe",
   "metadata": {},
   "outputs": [],
   "source": []
  },
  {
   "cell_type": "code",
   "execution_count": null,
   "id": "eb46c917",
   "metadata": {},
   "outputs": [],
   "source": []
  },
  {
   "cell_type": "code",
   "execution_count": null,
   "id": "7fd3d6bc",
   "metadata": {},
   "outputs": [],
   "source": []
  },
  {
   "cell_type": "code",
   "execution_count": null,
   "id": "2fb1387e",
   "metadata": {},
   "outputs": [],
   "source": []
  },
  {
   "cell_type": "code",
   "execution_count": null,
   "id": "73871071",
   "metadata": {},
   "outputs": [],
   "source": []
  },
  {
   "cell_type": "code",
   "execution_count": null,
   "id": "a5752c4b",
   "metadata": {},
   "outputs": [],
   "source": []
  },
  {
   "cell_type": "code",
   "execution_count": null,
   "id": "fc4d0615",
   "metadata": {},
   "outputs": [],
   "source": []
  },
  {
   "cell_type": "code",
   "execution_count": null,
   "id": "d9fa4969",
   "metadata": {},
   "outputs": [],
   "source": []
  },
  {
   "cell_type": "code",
   "execution_count": null,
   "id": "f3685dcd",
   "metadata": {},
   "outputs": [],
   "source": []
  }
 ],
 "metadata": {
  "kernelspec": {
   "display_name": "Python 3 (ipykernel)",
   "language": "python",
   "name": "python3"
  },
  "language_info": {
   "codemirror_mode": {
    "name": "ipython",
    "version": 3
   },
   "file_extension": ".py",
   "mimetype": "text/x-python",
   "name": "python",
   "nbconvert_exporter": "python",
   "pygments_lexer": "ipython3",
   "version": "3.11.5"
  }
 },
 "nbformat": 4,
 "nbformat_minor": 5
}
