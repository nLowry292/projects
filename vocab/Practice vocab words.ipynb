{
 "cells": [
  {
   "cell_type": "code",
   "execution_count": null,
   "id": "a5223f44",
   "metadata": {},
   "outputs": [
    {
     "name": "stdout",
     "output_type": "stream",
     "text": [
      "Do you know this word: ristorante?\n",
      "y\n",
      "ristorante means restaurant\n",
      "\n",
      "Do you know this word: sport?\n",
      "y\n",
      "sport means sport\n",
      "\n",
      "Do you know this word: signora?\n",
      "y\n",
      "signora means lady/married woman/ma'am/Mrs.\n",
      "\n",
      "Do you know this word: madre?\n",
      "y\n",
      "madre means mother\n",
      "\n"
     ]
    }
   ],
   "source": [
    "import numpy as np\n",
    "import pandas as pd\n",
    "\n",
    "\n",
    "# quiz(N) samples N vocab words for practice\n",
    "def quiz(N):\n",
    "    \n",
    "    # read in the vocab list\n",
    "    df = pd.read_csv('../vocab.txt')\n",
    "    \n",
    "    #truncate input to a maximum of the size of list\n",
    "    N=min(N,len(df.index))\n",
    "    \n",
    "    #sample N random words\n",
    "    quizTable=df.sample(N)\n",
    "\n",
    "    #go through each sampled word\n",
    "    for i in range(N):\n",
    "        answer = input(\"Do you know this word: \" + quizTable[\"italian\"].values[i]+\"?\\n\").lower()\n",
    "        if (answer==\"quit\" or answer=='q'):\n",
    "            break\n",
    "        print(quizTable[\"italian\"].values[i]+\" means \" + quizTable[\"english\"].values[i]+\"\\n\")\n",
    "\n",
    "def addvocab():\n",
    "    \n",
    "    # read in the vocab list\n",
    "    df = pd.read_csv('../vocab.txt')\n",
    "    \n",
    "    while(True):\n",
    "        \n",
    "        # ask user for italian/english\n",
    "        italian = input(\"Enter the italian (type 'q' to quit): \")\n",
    "        if (italian == 'q'):\n",
    "            break\n",
    "        english = input(\"Enter the english (type 'q' to quit): \")\n",
    "        if (english == 'q'):\n",
    "            break\n",
    "    \n",
    "        # append to the data frame\n",
    "        new_row = pd.DataFrame([{'italian': italian, 'english': english}])\n",
    "        df = pd.concat([df, new_row], ignore_index=True) #ignore_index=True unifies the indexing\n",
    "    \n",
    "        # save back to vocab.txt\n",
    "        df.to_csv('../vocab.txt', index=False)\n",
    "\n",
    "        \n",
    "quiz(50)\n",
    "# changing values in a dataframe    \n",
    "#df = pd.DataFrame({'a': [1,2,3], 'b': [4,5,6]})\n",
    "#print(df)\n",
    "#df['b'].values[2]=7\n",
    "#print(df)"
   ]
  },
  {
   "cell_type": "markdown",
   "id": "6dea6b69",
   "metadata": {},
   "source": [
    "## todo add some extra functionality to the csv, e.g. a gotitwrong flag to prioritize words that you got wrong last time, some data collection in the tsv, i.e. how many times has this word showed up? how many times have you got it right? etc etc\n"
   ]
  },
  {
   "cell_type": "code",
   "execution_count": null,
   "id": "2c1864ea",
   "metadata": {},
   "outputs": [],
   "source": []
  },
  {
   "cell_type": "markdown",
   "id": "61b55f5c",
   "metadata": {
    "scrolled": true
   },
   "source": []
  },
  {
   "cell_type": "code",
   "execution_count": null,
   "id": "425fcfad",
   "metadata": {},
   "outputs": [],
   "source": []
  }
 ],
 "metadata": {
  "kernelspec": {
   "display_name": "Python 3 (ipykernel)",
   "language": "python",
   "name": "python3"
  },
  "language_info": {
   "codemirror_mode": {
    "name": "ipython",
    "version": 3
   },
   "file_extension": ".py",
   "mimetype": "text/x-python",
   "name": "python",
   "nbconvert_exporter": "python",
   "pygments_lexer": "ipython3",
   "version": "3.11.5"
  }
 },
 "nbformat": 4,
 "nbformat_minor": 5
}
